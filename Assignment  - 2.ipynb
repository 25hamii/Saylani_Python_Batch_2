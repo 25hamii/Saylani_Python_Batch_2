{
 "cells": [
  {
   "cell_type": "code",
   "execution_count": 2,
   "id": "f99a3c01",
   "metadata": {},
   "outputs": [
    {
     "name": "stdout",
     "output_type": "stream",
     "text": [
      "{'apple': 3, 'banana': 2, 'orange': 1, 'grape': 1}\n"
     ]
    }
   ],
   "source": [
    "# Q3 Solution: \n",
    "word_list = [\"apple\", \"banana\", \"apple\", \"orange\", \"banana\", \"grape\", \"apple\"]\n",
    "dictionary = {}\n",
    "\n",
    "for i in word_list:\n",
    "    dictionary[i] = word_list.count(i)\n",
    "    \n",
    "print(dictionary)"
   ]
  },
  {
   "cell_type": "code",
   "execution_count": 30,
   "id": "a5421ce9",
   "metadata": {},
   "outputs": [
    {
     "name": "stdout",
     "output_type": "stream",
     "text": [
      "Enter grocery items: potato tomato apple banana kiwi onion, cucumber, \n",
      "['potato', 'tomato', 'apple', 'banana', 'kiwi', 'onion,', 'cucumber,']\n",
      "['potato', 'tomato', 'onion,', 'cucumber,']\n"
     ]
    }
   ],
   "source": [
    "user = input(\"Enter grocery items: \")\n",
    "\n",
    "grocery_list = []\n",
    "for item in user.split():\n",
    "    grocery_list.append(item)\n",
    "print(grocery_list)\n",
    "\n",
    "items_to_remove = [\"apple\", \"banana\", \"kiwi\"]\n",
    "\n",
    "for item in items_to_remove:\n",
    "    if item in grocery_list:\n",
    "        grocery_list.remove(item)\n",
    "print(grocery_list)        \n",
    "        "
   ]
  },
  {
   "cell_type": "code",
   "execution_count": null,
   "id": "ec09922c",
   "metadata": {},
   "outputs": [],
   "source": []
  }
 ],
 "metadata": {
  "kernelspec": {
   "display_name": "Python 3 (ipykernel)",
   "language": "python",
   "name": "python3"
  },
  "language_info": {
   "codemirror_mode": {
    "name": "ipython",
    "version": 3
   },
   "file_extension": ".py",
   "mimetype": "text/x-python",
   "name": "python",
   "nbconvert_exporter": "python",
   "pygments_lexer": "ipython3",
   "version": "3.11.5"
  }
 },
 "nbformat": 4,
 "nbformat_minor": 5
}
