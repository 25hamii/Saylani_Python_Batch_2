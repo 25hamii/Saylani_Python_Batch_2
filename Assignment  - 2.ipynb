{
 "cells": [
  {
   "cell_type": "code",
   "execution_count": 2,
   "id": "f99a3c01",
   "metadata": {},
   "outputs": [
    {
     "name": "stdout",
     "output_type": "stream",
     "text": [
      "{'apple': 3, 'banana': 2, 'orange': 1, 'grape': 1}\n"
     ]
    }
   ],
   "source": [
    "# Q3 Solution: \n",
    "word_list = [\"apple\", \"banana\", \"apple\", \"orange\", \"banana\", \"grape\", \"apple\"]\n",
    "dictionary = {}\n",
    "\n",
    "for i in word_list:\n",
    "    dictionary[i] = word_list.count(i)\n",
    "    \n",
    "print(dictionary)"
   ]
  },
  {
   "cell_type": "code",
   "execution_count": 6,
   "id": "a5421ce9",
   "metadata": {},
   "outputs": [
    {
     "name": "stdout",
     "output_type": "stream",
     "text": [
      "Enter grocery items: orange grape cauliflower potato tomato apple banana kiwi\n",
      "['orange', 'grape', 'cauliflower', 'potato', 'tomato', 'apple', 'banana', 'kiwi']\n",
      "['orange', 'grape', 'cauliflower', 'potato', 'tomato']\n"
     ]
    }
   ],
   "source": [
    "user = input(\"Enter grocery items: \")\n",
    "\n",
    "grocery_list = []\n",
    "for item in user.split():\n",
    "    grocery_list.append(item)\n",
    "print(grocery_list)\n",
    "\n",
    "items_to_remove = [\"apple\", \"banana\", \"kiwi\"]\n",
    "\n",
    "for item in items_to_remove:\n",
    "    if item in grocery_list:\n",
    "        grocery_list.remove(item)\n",
    "print(grocery_list)        "
   ]
  },
  {
   "cell_type": "code",
   "execution_count": 8,
   "id": "bcf8b135",
   "metadata": {},
   "outputs": [
    {
     "name": "stdout",
     "output_type": "stream",
     "text": [
      "Enter gpa or percentagegpa\n",
      "Enter no of Subject4\n",
      "Enter marks40\n",
      "Enter marks60\n",
      "Enter marks70\n",
      "Enter marks80\n",
      "your average GPA is: 2.5\n"
     ]
    }
   ],
   "source": [
    "system_var = input(\"Enter gpa or percentage\")\n",
    "if system_var == \"percentage\":\n",
    "    \n",
    "    subjects = int(input(\"Enter no of Subject\"))\n",
    "    sum_of_marks = 0\n",
    "    for i in range(subjects):\n",
    "\n",
    "        marks = int(input(\"Enter marks\"))\n",
    "\n",
    "        sum_of_marks += marks\n",
    "\n",
    "        total_marks = subjects * 100\n",
    "\n",
    "    percentage = (sum_of_marks / total_marks) * 100\n",
    "    print(\"your average percentage is:\", percentage)\n",
    "    \n",
    "elif system_var == \"gpa\":\n",
    "    subjects = int(input(\"Enter no of Subject\"))\n",
    "    sum_of_gpa = 0\n",
    "    total_gpa = 0\n",
    "    for i in range(subjects):\n",
    "\n",
    "        marks = int(input(\"Enter marks\"))\n",
    "        if marks >= 80 :\n",
    "            gpa = 4.0\n",
    "        elif 80 > marks >= 70:\n",
    "            gpa = 3.0\n",
    "        elif 70 > marks >= 60:\n",
    "            gpa = 2.0\n",
    "        elif 60 > marks >= 50:\n",
    "            gpa = 1.7\n",
    "        elif 50 > marks:\n",
    "            gpa = 1.0\n",
    "\n",
    "        sum_of_gpa += gpa\n",
    "\n",
    "        total_gpa = subjects * 100\n",
    "\n",
    "    avg_gpa = (sum_of_gpa / total_gpa) * 100\n",
    "    print(\"your average GPA is:\", avg_gpa)         "
   ]
  },
  {
   "cell_type": "markdown",
   "id": "825c3846",
   "metadata": {},
   "source": [
    "# password strenght checker\n",
    "\n",
    "user input == password(string)\n",
    "1. 8 characters(min)\n",
    "2. one digit should be there\n",
    "3. one letter \n",
    "count = 0\n",
    "if password >= 8:\n",
    "print(\"password is okay\")\n",
    "count += 1\n",
    "for i in password:\n",
    "if i.isdigit():\n",
    "digit_is_present = 1\n",
    "if digit_is_present == 1\n",
    "count += 1\n",
    "for i in password:\n",
    "if i.isalpha():\n",
    "count += 1\n",
    "if count == 3:\n",
    "print(\"password is strong\")"
   ]
  },
  {
   "cell_type": "code",
   "execution_count": 19,
   "id": "68c11a09",
   "metadata": {},
   "outputs": [
    {
     "name": "stdout",
     "output_type": "stream",
     "text": [
      "Enter your password: hamza786\n",
      "Password is strong\n"
     ]
    }
   ],
   "source": [
    "password = input(\"Enter your password: \")\n",
    "count = 0\n",
    "digit_is_present = 0\n",
    "\n",
    "# Check minimum length\n",
    "if len(password) >= 8:\n",
    "    count += 1\n",
    "\n",
    "# Check for at least one digit and at least one letter\n",
    "for i in password:\n",
    "    if i.isdigit():\n",
    "        digit_is_present = 1\n",
    "    elif i.isalpha():\n",
    "        count += 1\n",
    "\n",
    "# Check overall strength\n",
    "if count >= 2 and digit_is_present == 1:\n",
    "    print(\"Password is strong\")\n",
    "else:\n",
    "    print(\"Password is not strong\")\n"
   ]
  },
  {
   "cell_type": "code",
   "execution_count": null,
   "id": "e3da5ae5",
   "metadata": {},
   "outputs": [],
   "source": []
  }
 ],
 "metadata": {
  "kernelspec": {
   "display_name": "Python 3 (ipykernel)",
   "language": "python",
   "name": "python3"
  },
  "language_info": {
   "codemirror_mode": {
    "name": "ipython",
    "version": 3
   },
   "file_extension": ".py",
   "mimetype": "text/x-python",
   "name": "python",
   "nbconvert_exporter": "python",
   "pygments_lexer": "ipython3",
   "version": "3.11.5"
  }
 },
 "nbformat": 4,
 "nbformat_minor": 5
}
