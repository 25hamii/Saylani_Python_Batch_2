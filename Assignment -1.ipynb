{
 "cells": [
  {
   "cell_type": "code",
   "execution_count": 7,
   "id": "9543a7d3",
   "metadata": {},
   "outputs": [
    {
     "name": "stdout",
     "output_type": "stream",
     "text": [
      "Enter your salary200\n",
      "Enter your years of service6\n",
      "Congratulations! your bonus amount is: $10.00\n"
     ]
    }
   ],
   "source": [
    "salary = float(input(\"Enter your salary\"))\n",
    "years_of_service = int(input(\"Enter your years of service\"))\n",
    "\n",
    "if years_of_service > 5:\n",
    "    bonus = 0.05 * salary\n",
    "    print(f\"Congratulations! your bonus amount is: ${bonus:.2f}\")\n",
    "else:\n",
    "    print(\"You are not eligible for the bonus amount\")"
   ]
  },
  {
   "cell_type": "code",
   "execution_count": 8,
   "id": "85c4f7c7",
   "metadata": {},
   "outputs": [
    {
     "name": "stdout",
     "output_type": "stream",
     "text": [
      "Enter your age18\n",
      "You are eligible for voting\n"
     ]
    }
   ],
   "source": [
    "age = int(input(\"Enter your age\"))\n",
    "\n",
    "if age > 17:\n",
    "    print(\"You are eligible for voting\")\n",
    "else:\n",
    "    print(\"You are not eligible for voting\")"
   ]
  },
  {
   "cell_type": "code",
   "execution_count": 12,
   "id": "152dd526",
   "metadata": {},
   "outputs": [
    {
     "name": "stdout",
     "output_type": "stream",
     "text": [
      "Enter any number to test whether its odd or even13\n",
      "The number 13 is odd.\n"
     ]
    }
   ],
   "source": [
    "num = int(input(\"Enter any number to test whether its odd or even\"))\n",
    "\n",
    "if num % 2 == 0:\n",
    "    print(f\"The number {num} is even.\")\n",
    "else:\n",
    "    print(f\"The number {num} is odd.\")\n",
    "    "
   ]
  },
  {
   "cell_type": "code",
   "execution_count": 4,
   "id": "9f068219",
   "metadata": {},
   "outputs": [
    {
     "name": "stdout",
     "output_type": "stream",
     "text": [
      "Enter a number: 7\n",
      "The number 7 is divisible by 7.\n"
     ]
    }
   ],
   "source": [
    "num = int(input(\"Enter a number: \"))\n",
    "if num % 7 == 0:\n",
    "    print(f\"The number {num} is divisible by 7.\")\n",
    "else:\n",
    "    print(f\"The number {num} is not divisible by 7.\")"
   ]
  },
  {
   "cell_type": "code",
   "execution_count": 5,
   "id": "128efe1f",
   "metadata": {},
   "outputs": [
    {
     "name": "stdout",
     "output_type": "stream",
     "text": [
      "Enter a number5\n",
      "Hello\n"
     ]
    }
   ],
   "source": [
    "num = int(input(\"Enter a number\"))\n",
    "\n",
    "if num % 5 == 0:\n",
    "    print(\"Hello\")\n",
    "else:\n",
    "    print(\"Bye\")"
   ]
  },
  {
   "cell_type": "code",
   "execution_count": 7,
   "id": "ea999c8a",
   "metadata": {},
   "outputs": [
    {
     "name": "stdout",
     "output_type": "stream",
     "text": [
      "Enter a number10\n",
      "The last digit of 10 is 0.\n"
     ]
    }
   ],
   "source": [
    "num = int(input(\"Enter a number\"))\n",
    "\n",
    "last_digit = num % 10\n",
    "print(f\"The last digit of {num} is {last_digit}.\")"
   ]
  },
  {
   "cell_type": "code",
   "execution_count": 10,
   "id": "9b7bbe01",
   "metadata": {},
   "outputs": [
    {
     "name": "stdout",
     "output_type": "stream",
     "text": [
      "Enter a number30\n",
      "The last digit of 30 (0) is divisible by 3.\n"
     ]
    }
   ],
   "source": [
    "num = int(input(\"Enter a number\"))\n",
    "last_digit = num % 10\n",
    "\n",
    "if last_digit % 3 == 0:\n",
    "    print(f\"The last digit of {num} ({last_digit}) is divisible by 3.\")\n",
    "else:\n",
    "    print(f\"The last digit of {num} ({last_digit}) is not divisible by 3.\")"
   ]
  },
  {
   "cell_type": "code",
   "execution_count": 12,
   "id": "0a5cf416",
   "metadata": {},
   "outputs": [
    {
     "name": "stdout",
     "output_type": "stream",
     "text": [
      "Enter lenght of rectangle20\n",
      "Enter breadth of rectangle20\n",
      "Its a Square\n"
     ]
    }
   ],
   "source": [
    "lenght = float(input(\"Enter lenght of rectangle\"))\n",
    "Breadth = float(input(\"Enter breadth of rectangle\"))\n",
    "\n",
    "if lenght == Breadth:\n",
    "    print(\"Its a Square\")\n",
    "else:\n",
    "    print(\"Its a Rectangle\")"
   ]
  },
  {
   "cell_type": "code",
   "execution_count": 13,
   "id": "ac9627a4",
   "metadata": {},
   "outputs": [
    {
     "name": "stdout",
     "output_type": "stream",
     "text": [
      "Enter first number10\n",
      "Enter second number20\n",
      "The greater number is 20\n"
     ]
    }
   ],
   "source": [
    "num1 = int(input(\"Enter first number\"))\n",
    "num2 = int(input(\"Enter second number\"))\n",
    "\n",
    "if num1 > num2:\n",
    "    print(f\"The greater number is {num1}\")\n",
    "elif num2 > num1:\n",
    "    print(f\"The greater number is {num2}\")\n",
    "else:\n",
    "    print(\"Both numbers are equal\")"
   ]
  },
  {
   "cell_type": "code",
   "execution_count": 16,
   "id": "740983ca",
   "metadata": {},
   "outputs": [
    {
     "name": "stdout",
     "output_type": "stream",
     "text": [
      "Enter quantity purchased10\n",
      "The total cost for 10 units is: $1000.00\n"
     ]
    }
   ],
   "source": [
    "cost_per_unit = 100\n",
    "quantity = int(input(\"Enter quantity purchased\"))\n",
    "\n",
    "total_cost = cost_per_unit * quantity\n",
    "if total_cost > 1000:\n",
    "    discount = 0.1 * total_cost\n",
    "    total_cost -= discount\n",
    "print(f\"The total cost for {quantity} units is: ${total_cost:.2f}\")"
   ]
  },
  {
   "cell_type": "code",
   "execution_count": 14,
   "id": "a0ab061c",
   "metadata": {},
   "outputs": [
    {
     "name": "stdout",
     "output_type": "stream",
     "text": [
      "Enter the marks obtained: 60\n",
      "The corresponding grade for marks 60.0 is: B\n"
     ]
    }
   ],
   "source": [
    "marks = float(input(\"Enter the marks obtained: \"))\n",
    "\n",
    "if marks < 25:\n",
    "    grade = \"F\"\n",
    "elif marks >= 25 and marks < 45:\n",
    "    grade = \"E\"\n",
    "elif marks >= 45 and marks < 50:\n",
    "    grade = \"D\"\n",
    "elif marks >= 50 and marks < 60:\n",
    "    grade = \"C\"\n",
    "elif marks >= 60 and marks < 80:\n",
    "    grade = \"B\"\n",
    "else:\n",
    "    grade = \"A\"\n",
    "print(f\"The corresponding grade for marks {marks} is: {grade}\")"
   ]
  },
  {
   "cell_type": "code",
   "execution_count": 18,
   "id": "51b98d01",
   "metadata": {},
   "outputs": [
    {
     "name": "stdout",
     "output_type": "stream",
     "text": [
      "Enter the number of classes held: 125\n",
      "Enter the number of classes attended: 106\n",
      "Percentage of classes attended: 84.80%\n",
      "The student is allowed to sit in the exam.\n"
     ]
    }
   ],
   "source": [
    "classes_held = int(input(\"Enter the number of classes held: \"))\n",
    "classes_attended = int(input(\"Enter the number of classes attended: \"))\n",
    "attendance_percentage = (classes_attended / classes_held) * 100\n",
    "\n",
    "print(f\"Percentage of classes attended: {attendance_percentage:.2f}%\")\n",
    "\n",
    "if attendance_percentage >= 75:\n",
    "    print(\"The student is allowed to sit in the exam.\")\n",
    "else:\n",
    "    print(\"The student is not allowed to sit in the exam due to low attendance.\")"
   ]
  },
  {
   "cell_type": "code",
   "execution_count": 19,
   "id": "846d14da",
   "metadata": {},
   "outputs": [
    {
     "name": "stdout",
     "output_type": "stream",
     "text": [
      "Enter the number of classes held: 125\n",
      "Enter the number of classes attended: 106\n",
      "Percentage of classes attended: 84.80%\n",
      "Do you have a medical cause? (Enter 'Y' for Yes or 'N' for No): no\n",
      "The student is allowed to sit in the exam based on attendance.\n"
     ]
    }
   ],
   "source": [
    "classes_held = int(input(\"Enter the number of classes held: \"))\n",
    "classes_attended = int(input(\"Enter the number of classes attended: \"))\n",
    "\n",
    "attendance_percentage = (classes_attended / classes_held) * 100\n",
    "\n",
    "print(f\"Percentage of classes attended: {attendance_percentage:.2f}%\")\n",
    "\n",
    "medical_cause = input(\"Do you have a medical cause? (Enter 'Y' for Yes or 'N' for No): \")\n",
    "\n",
    "if medical_cause == 'Y':\n",
    "    print(\"The student is allowed to sit in the exam due to a medical cause.\")\n",
    "elif attendance_percentage >= 75:\n",
    "    print(\"The student is allowed to sit in the exam based on attendance.\")\n",
    "else:\n",
    "    print(\"The student is not allowed to sit in the exam due to low attendance.\")"
   ]
  },
  {
   "cell_type": "code",
   "execution_count": 22,
   "id": "68dff15f",
   "metadata": {},
   "outputs": [
    {
     "name": "stdout",
     "output_type": "stream",
     "text": [
      "Enter a year2000\n",
      "It's a leap year\n"
     ]
    }
   ],
   "source": [
    "year = int(input(\"Enter a year\"))\n",
    "\n",
    "if year % 100 == 0:\n",
    "    if year % 400 == 0:\n",
    "        print(\"It's a leap year\")\n",
    "    else:\n",
    "        print(\"It's a normal year\")\n",
    "else:\n",
    "    if year % 4 == 0:\n",
    "        print(\"It's a leap year\")\n",
    "    else:\n",
    "        print(\"It's a normal year\")"
   ]
  },
  {
   "cell_type": "code",
   "execution_count": 27,
   "id": "b0004d38",
   "metadata": {},
   "outputs": [
    {
     "name": "stdout",
     "output_type": "stream",
     "text": [
      "Enter age: 25\n",
      "Enter gender M or F: M\n",
      "Enter maritial status Y or N:Y\n",
      "place of service: Anywhere\n"
     ]
    }
   ],
   "source": [
    "age = int(input(\"Enter age: \"))\n",
    "gender = input(\"Enter gender M or F: \")\n",
    "maritial_status = input(\"Enter maritial status Y or N:\")\n",
    "\n",
    "if gender == \"F\":\n",
    "    print(\"place of service: Urban areas\")\n",
    "elif gender == \"M\":\n",
    "    if 20<= age <=40:\n",
    "        print(\"place of service: Anywhere\")\n",
    "    elif 40<= age <=60:\n",
    "        print(\"place of service: Urban areas\")\n",
    "    else:\n",
    "        print(\"Error: Invalid age input\")\n",
    "else:\n",
    "    print(\"Error: Invalid gender input\")"
   ]
  },
  {
   "cell_type": "code",
   "execution_count": 28,
   "id": "6b81e2b1",
   "metadata": {},
   "outputs": [
    {
     "name": "stdout",
     "output_type": "stream",
     "text": [
      "Enter age of first person: 20\n",
      "Enter age of second person: 30\n",
      "Enter age of third person: 40\n",
      "The oldest person is 40 years old.\n",
      "The youngest person is 20 years old.\n"
     ]
    }
   ],
   "source": [
    "age1 = int(input(\"Enter age of first person: \"))\n",
    "age2 = int(input(\"Enter age of second person: \"))\n",
    "age3 = int(input(\"Enter age of third person: \"))\n",
    "\n",
    "oldest = max(age1,age2,age3)\n",
    "youngest = min(age1,age2,age3)\n",
    "\n",
    "print(f\"The oldest person is {oldest} years old.\")\n",
    "print(f\"The youngest person is {youngest} years old.\")"
   ]
  },
  {
   "cell_type": "code",
   "execution_count": 29,
   "id": "26c9402d",
   "metadata": {},
   "outputs": [
    {
     "name": "stdout",
     "output_type": "stream",
     "text": [
      "Enter the number of units consumed: 230\n",
      "1150\n"
     ]
    }
   ],
   "source": [
    "units = int(input(\"Enter the number of units consumed: \"))\n",
    "\n",
    "if units<=100:\n",
    "    print(\"No charge.\")\n",
    "elif 100<units<=300:\n",
    "    print(units * 5)\n",
    "elif units>300:\n",
    "    print(units*10)"
   ]
  },
  {
   "cell_type": "code",
   "execution_count": null,
   "id": "ab198d93",
   "metadata": {},
   "outputs": [],
   "source": []
  }
 ],
 "metadata": {
  "kernelspec": {
   "display_name": "Python 3 (ipykernel)",
   "language": "python",
   "name": "python3"
  },
  "language_info": {
   "codemirror_mode": {
    "name": "ipython",
    "version": 3
   },
   "file_extension": ".py",
   "mimetype": "text/x-python",
   "name": "python",
   "nbconvert_exporter": "python",
   "pygments_lexer": "ipython3",
   "version": "3.11.5"
  }
 },
 "nbformat": 4,
 "nbformat_minor": 5
}
